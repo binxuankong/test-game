{
 "cells": [
  {
   "cell_type": "code",
   "execution_count": 1,
   "metadata": {},
   "outputs": [],
   "source": [
    "import random\n",
    "import pandas as pd"
   ]
  },
  {
   "cell_type": "code",
   "execution_count": 2,
   "metadata": {},
   "outputs": [
    {
     "data": {
      "text/html": [
       "<div>\n",
       "<style scoped>\n",
       "    .dataframe tbody tr th:only-of-type {\n",
       "        vertical-align: middle;\n",
       "    }\n",
       "\n",
       "    .dataframe tbody tr th {\n",
       "        vertical-align: top;\n",
       "    }\n",
       "\n",
       "    .dataframe thead th {\n",
       "        text-align: right;\n",
       "    }\n",
       "</style>\n",
       "<table border=\"1\" class=\"dataframe\">\n",
       "  <thead>\n",
       "    <tr style=\"text-align: right;\">\n",
       "      <th></th>\n",
       "      <th>Adventure</th>\n",
       "      <th>Base Rarity</th>\n",
       "      <th>Class</th>\n",
       "      <th>Weapon</th>\n",
       "      <th>Element</th>\n",
       "      <th>Availability</th>\n",
       "      <th>Gender</th>\n",
       "      <th>Release</th>\n",
       "    </tr>\n",
       "  </thead>\n",
       "  <tbody>\n",
       "    <tr>\n",
       "      <th>0</th>\n",
       "      <td>Taiga</td>\n",
       "      <td>2</td>\n",
       "      <td>Warrior</td>\n",
       "      <td>Dagger</td>\n",
       "      <td>Ruby</td>\n",
       "      <td>Story</td>\n",
       "      <td>Female</td>\n",
       "      <td>0</td>\n",
       "    </tr>\n",
       "    <tr>\n",
       "      <th>1</th>\n",
       "      <td>Khun</td>\n",
       "      <td>2</td>\n",
       "      <td>Cleric</td>\n",
       "      <td>Blade</td>\n",
       "      <td>Sapphire</td>\n",
       "      <td>Story</td>\n",
       "      <td>Male</td>\n",
       "      <td>0</td>\n",
       "    </tr>\n",
       "    <tr>\n",
       "      <th>2</th>\n",
       "      <td>Rawn</td>\n",
       "      <td>2</td>\n",
       "      <td>Ranger</td>\n",
       "      <td>Axe</td>\n",
       "      <td>Emerald</td>\n",
       "      <td>Story</td>\n",
       "      <td>Male</td>\n",
       "      <td>0</td>\n",
       "    </tr>\n",
       "    <tr>\n",
       "      <th>3</th>\n",
       "      <td>Ryujin</td>\n",
       "      <td>2</td>\n",
       "      <td>Rogue</td>\n",
       "      <td>Lance</td>\n",
       "      <td>Topaz</td>\n",
       "      <td>Story</td>\n",
       "      <td>Male</td>\n",
       "      <td>0</td>\n",
       "    </tr>\n",
       "    <tr>\n",
       "      <th>4</th>\n",
       "      <td>Kaede</td>\n",
       "      <td>2</td>\n",
       "      <td>Knight</td>\n",
       "      <td>Staff</td>\n",
       "      <td>Onyx</td>\n",
       "      <td>Story</td>\n",
       "      <td>Female</td>\n",
       "      <td>0</td>\n",
       "    </tr>\n",
       "  </tbody>\n",
       "</table>\n",
       "</div>"
      ],
      "text/plain": [
       "  Adventure  Base Rarity    Class  Weapon   Element Availability  Gender  \\\n",
       "0     Taiga            2  Warrior  Dagger      Ruby        Story  Female   \n",
       "1      Khun            2   Cleric   Blade  Sapphire        Story    Male   \n",
       "2      Rawn            2   Ranger     Axe   Emerald        Story    Male   \n",
       "3    Ryujin            2    Rogue   Lance     Topaz        Story    Male   \n",
       "4     Kaede            2   Knight   Staff      Onyx        Story  Female   \n",
       "\n",
       "   Release  \n",
       "0        0  \n",
       "1        0  \n",
       "2        0  \n",
       "3        0  \n",
       "4        0  "
      ]
     },
     "execution_count": 2,
     "metadata": {},
     "output_type": "execute_result"
    }
   ],
   "source": [
    "df = pd.read_csv('data/adventures-list.csv')\n",
    "df = df.dropna(subset=['Adventure'])\n",
    "df['Base Rarity'] = df['Base Rarity'].astype('int')\n",
    "df['Release'] = df['Release'].astype('int')\n",
    "df.head()"
   ]
  },
  {
   "cell_type": "code",
   "execution_count": 3,
   "metadata": {},
   "outputs": [],
   "source": [
    "RATES = {1: 0.75, 2: 0.2, 3: 0.05}\n",
    "FEATURED = {2: 0.04, 3: 0.01}"
   ]
  },
  {
   "cell_type": "markdown",
   "metadata": {},
   "source": [
    "### Free Adventures"
   ]
  },
  {
   "cell_type": "code",
   "execution_count": 4,
   "metadata": {},
   "outputs": [
    {
     "data": {
      "text/plain": [
       "['Taiga', 'Khun', 'Rawn', 'Ryujin', 'Kaede', 'Sayori']"
      ]
     },
     "execution_count": 4,
     "metadata": {},
     "output_type": "execute_result"
    }
   ],
   "source": [
    "adv = df.loc[df['Release'] == 0]\n",
    "adv['Adventure'].unique().tolist()"
   ]
  },
  {
   "cell_type": "markdown",
   "metadata": {},
   "source": [
    "### Initial Rolls"
   ]
  },
  {
   "cell_type": "code",
   "execution_count": 5,
   "metadata": {},
   "outputs": [],
   "source": [
    "def simulate_roll(num, release):\n",
    "    result = pd.DataFrame()\n",
    "    for n in range(num):\n",
    "        res = roll(release)\n",
    "        if res is not None:\n",
    "            result = result.append(res)\n",
    "    return result\n",
    "\n",
    "def roll(release, pity=False):\n",
    "    pool = df.loc[df['Release'] <= release]\n",
    "    die1 = random.random()\n",
    "    if die1 <= RATES[1]:\n",
    "        return\n",
    "    elif die1 <= RATES[1] + RATES[2]:\n",
    "        die2 = random.random()\n",
    "        adv = None\n",
    "        if die2 <= FEATURED[2] / RATES[2]:\n",
    "            adv = get_featured(2, release, pool)\n",
    "        if adv is None:\n",
    "            adv = get_random_adventure(2, pool)\n",
    "        return adv\n",
    "    else:\n",
    "        die2 = random.random()\n",
    "        if die2 <= FEATURED[3] / RATES[3]:\n",
    "            adv = get_featured(3, release, pool)\n",
    "        else:\n",
    "            adv = get_random_adventure(3, pool)\n",
    "        return adv\n",
    "            \n",
    "def get_random_adventure(rarity, pool):\n",
    "    return pool.loc[pool['Base Rarity'] == rarity].sample()\n",
    "\n",
    "def get_featured(rarity, release, pool):\n",
    "    row = pool.loc[(pool['Base Rarity'] == rarity) & (pool['Release'] == release)]\n",
    "    if len(row) < 1:\n",
    "        return None\n",
    "    elif len(row) > 1:\n",
    "        row = row.sample()\n",
    "    return row"
   ]
  },
  {
   "cell_type": "code",
   "execution_count": 6,
   "metadata": {},
   "outputs": [],
   "source": [
    "roll(1)"
   ]
  },
  {
   "cell_type": "code",
   "execution_count": 7,
   "metadata": {},
   "outputs": [
    {
     "data": {
      "text/html": [
       "<div>\n",
       "<style scoped>\n",
       "    .dataframe tbody tr th:only-of-type {\n",
       "        vertical-align: middle;\n",
       "    }\n",
       "\n",
       "    .dataframe tbody tr th {\n",
       "        vertical-align: top;\n",
       "    }\n",
       "\n",
       "    .dataframe thead th {\n",
       "        text-align: right;\n",
       "    }\n",
       "</style>\n",
       "<table border=\"1\" class=\"dataframe\">\n",
       "  <thead>\n",
       "    <tr style=\"text-align: right;\">\n",
       "      <th></th>\n",
       "      <th>Adventure</th>\n",
       "      <th>Base Rarity</th>\n",
       "      <th>Class</th>\n",
       "      <th>Weapon</th>\n",
       "      <th>Element</th>\n",
       "      <th>Availability</th>\n",
       "      <th>Gender</th>\n",
       "      <th>Release</th>\n",
       "    </tr>\n",
       "  </thead>\n",
       "  <tbody>\n",
       "    <tr>\n",
       "      <th>7</th>\n",
       "      <td>Damian</td>\n",
       "      <td>2</td>\n",
       "      <td>Ranger</td>\n",
       "      <td>Gun</td>\n",
       "      <td>Ruby</td>\n",
       "      <td>Permanent</td>\n",
       "      <td>Male</td>\n",
       "      <td>1</td>\n",
       "    </tr>\n",
       "    <tr>\n",
       "      <th>23</th>\n",
       "      <td>Rea</td>\n",
       "      <td>2</td>\n",
       "      <td>Ranger</td>\n",
       "      <td>Bow</td>\n",
       "      <td>Topaz</td>\n",
       "      <td>Permanent</td>\n",
       "      <td>Female</td>\n",
       "      <td>1</td>\n",
       "    </tr>\n",
       "    <tr>\n",
       "      <th>33</th>\n",
       "      <td>Eres</td>\n",
       "      <td>2</td>\n",
       "      <td>Ranger</td>\n",
       "      <td>Dagger</td>\n",
       "      <td>Amber</td>\n",
       "      <td>Permanent</td>\n",
       "      <td>Female</td>\n",
       "      <td>1</td>\n",
       "    </tr>\n",
       "    <tr>\n",
       "      <th>2</th>\n",
       "      <td>Rawn</td>\n",
       "      <td>2</td>\n",
       "      <td>Ranger</td>\n",
       "      <td>Axe</td>\n",
       "      <td>Emerald</td>\n",
       "      <td>Story</td>\n",
       "      <td>Male</td>\n",
       "      <td>0</td>\n",
       "    </tr>\n",
       "    <tr>\n",
       "      <th>16</th>\n",
       "      <td>Kiris</td>\n",
       "      <td>2</td>\n",
       "      <td>Knight</td>\n",
       "      <td>Wand</td>\n",
       "      <td>Emerald</td>\n",
       "      <td>Permanent</td>\n",
       "      <td>Female</td>\n",
       "      <td>1</td>\n",
       "    </tr>\n",
       "    <tr>\n",
       "      <th>4</th>\n",
       "      <td>Kaede</td>\n",
       "      <td>2</td>\n",
       "      <td>Knight</td>\n",
       "      <td>Staff</td>\n",
       "      <td>Onyx</td>\n",
       "      <td>Story</td>\n",
       "      <td>Female</td>\n",
       "      <td>0</td>\n",
       "    </tr>\n",
       "    <tr>\n",
       "      <th>22</th>\n",
       "      <td>Ryza</td>\n",
       "      <td>2</td>\n",
       "      <td>Knight</td>\n",
       "      <td>Gun</td>\n",
       "      <td>Topaz</td>\n",
       "      <td>Permanent</td>\n",
       "      <td>Female</td>\n",
       "      <td>1</td>\n",
       "    </tr>\n",
       "  </tbody>\n",
       "</table>\n",
       "</div>"
      ],
      "text/plain": [
       "   Adventure  Base Rarity   Class  Weapon  Element Availability  Gender  \\\n",
       "7     Damian            2  Ranger     Gun     Ruby    Permanent    Male   \n",
       "23       Rea            2  Ranger     Bow    Topaz    Permanent  Female   \n",
       "33      Eres            2  Ranger  Dagger    Amber    Permanent  Female   \n",
       "2       Rawn            2  Ranger     Axe  Emerald        Story    Male   \n",
       "16     Kiris            2  Knight    Wand  Emerald    Permanent  Female   \n",
       "4      Kaede            2  Knight   Staff     Onyx        Story  Female   \n",
       "22      Ryza            2  Knight     Gun    Topaz    Permanent  Female   \n",
       "\n",
       "    Release  \n",
       "7         1  \n",
       "23        1  \n",
       "33        1  \n",
       "2         0  \n",
       "16        1  \n",
       "4         0  \n",
       "22        1  "
      ]
     },
     "execution_count": 7,
     "metadata": {},
     "output_type": "execute_result"
    }
   ],
   "source": [
    "simulate_roll(30, 1)"
   ]
  },
  {
   "cell_type": "code",
   "execution_count": 8,
   "metadata": {},
   "outputs": [
    {
     "data": {
      "text/plain": [
       "2    17\n",
       "3     5\n",
       "Name: Base Rarity, dtype: int64"
      ]
     },
     "execution_count": 8,
     "metadata": {},
     "output_type": "execute_result"
    }
   ],
   "source": [
    "simulate_roll(100, 1)['Base Rarity'].value_counts()"
   ]
  },
  {
   "cell_type": "code",
   "execution_count": 9,
   "metadata": {},
   "outputs": [
    {
     "data": {
      "text/html": [
       "<div>\n",
       "<style scoped>\n",
       "    .dataframe tbody tr th:only-of-type {\n",
       "        vertical-align: middle;\n",
       "    }\n",
       "\n",
       "    .dataframe tbody tr th {\n",
       "        vertical-align: top;\n",
       "    }\n",
       "\n",
       "    .dataframe thead th {\n",
       "        text-align: right;\n",
       "    }\n",
       "</style>\n",
       "<table border=\"1\" class=\"dataframe\">\n",
       "  <thead>\n",
       "    <tr style=\"text-align: right;\">\n",
       "      <th></th>\n",
       "      <th>Adventure</th>\n",
       "      <th>Base Rarity</th>\n",
       "      <th>Class</th>\n",
       "      <th>Weapon</th>\n",
       "      <th>Element</th>\n",
       "      <th>Availability</th>\n",
       "      <th>Gender</th>\n",
       "      <th>Release</th>\n",
       "    </tr>\n",
       "  </thead>\n",
       "  <tbody>\n",
       "    <tr>\n",
       "      <th>21</th>\n",
       "      <td>Ozanne</td>\n",
       "      <td>2</td>\n",
       "      <td>Warrior</td>\n",
       "      <td>Axe</td>\n",
       "      <td>Topaz</td>\n",
       "      <td>Permanent</td>\n",
       "      <td>Female</td>\n",
       "      <td>1</td>\n",
       "    </tr>\n",
       "    <tr>\n",
       "      <th>26</th>\n",
       "      <td>Udo</td>\n",
       "      <td>2</td>\n",
       "      <td>Warrior</td>\n",
       "      <td>Sword</td>\n",
       "      <td>Onyx</td>\n",
       "      <td>Permanent</td>\n",
       "      <td>Female</td>\n",
       "      <td>1</td>\n",
       "    </tr>\n",
       "  </tbody>\n",
       "</table>\n",
       "</div>"
      ],
      "text/plain": [
       "   Adventure  Base Rarity    Class Weapon Element Availability  Gender  \\\n",
       "21    Ozanne            2  Warrior    Axe   Topaz    Permanent  Female   \n",
       "26       Udo            2  Warrior  Sword    Onyx    Permanent  Female   \n",
       "\n",
       "    Release  \n",
       "21        1  \n",
       "26        1  "
      ]
     },
     "execution_count": 9,
     "metadata": {},
     "output_type": "execute_result"
    }
   ],
   "source": [
    "simulate_roll(10, 2)"
   ]
  },
  {
   "cell_type": "code",
   "execution_count": 10,
   "metadata": {},
   "outputs": [
    {
     "data": {
      "text/html": [
       "<div>\n",
       "<style scoped>\n",
       "    .dataframe tbody tr th:only-of-type {\n",
       "        vertical-align: middle;\n",
       "    }\n",
       "\n",
       "    .dataframe tbody tr th {\n",
       "        vertical-align: top;\n",
       "    }\n",
       "\n",
       "    .dataframe thead th {\n",
       "        text-align: right;\n",
       "    }\n",
       "</style>\n",
       "<table border=\"1\" class=\"dataframe\">\n",
       "  <thead>\n",
       "    <tr style=\"text-align: right;\">\n",
       "      <th></th>\n",
       "      <th>Adventure</th>\n",
       "      <th>Base Rarity</th>\n",
       "      <th>Class</th>\n",
       "      <th>Weapon</th>\n",
       "      <th>Element</th>\n",
       "      <th>Availability</th>\n",
       "      <th>Gender</th>\n",
       "      <th>Release</th>\n",
       "    </tr>\n",
       "  </thead>\n",
       "  <tbody>\n",
       "    <tr>\n",
       "      <th>31</th>\n",
       "      <td>Devon</td>\n",
       "      <td>2</td>\n",
       "      <td>Warrior</td>\n",
       "      <td>Mace</td>\n",
       "      <td>Amber</td>\n",
       "      <td>Permanent</td>\n",
       "      <td>Male</td>\n",
       "      <td>1</td>\n",
       "    </tr>\n",
       "    <tr>\n",
       "      <th>35</th>\n",
       "      <td>Miki</td>\n",
       "      <td>3</td>\n",
       "      <td>Cleric</td>\n",
       "      <td>Gun</td>\n",
       "      <td>Amber</td>\n",
       "      <td>Permanent</td>\n",
       "      <td>Female</td>\n",
       "      <td>1</td>\n",
       "    </tr>\n",
       "    <tr>\n",
       "      <th>5</th>\n",
       "      <td>Sayori</td>\n",
       "      <td>2</td>\n",
       "      <td>Mage</td>\n",
       "      <td>Wand</td>\n",
       "      <td>Amber</td>\n",
       "      <td>Story</td>\n",
       "      <td>Female</td>\n",
       "      <td>0</td>\n",
       "    </tr>\n",
       "    <tr>\n",
       "      <th>32</th>\n",
       "      <td>Phillip</td>\n",
       "      <td>2</td>\n",
       "      <td>Knight</td>\n",
       "      <td>Lance</td>\n",
       "      <td>Amber</td>\n",
       "      <td>Permanent</td>\n",
       "      <td>Male</td>\n",
       "      <td>1</td>\n",
       "    </tr>\n",
       "  </tbody>\n",
       "</table>\n",
       "</div>"
      ],
      "text/plain": [
       "   Adventure  Base Rarity    Class Weapon Element Availability  Gender  \\\n",
       "31     Devon            2  Warrior   Mace   Amber    Permanent    Male   \n",
       "35      Miki            3   Cleric    Gun   Amber    Permanent  Female   \n",
       "5     Sayori            2     Mage   Wand   Amber        Story  Female   \n",
       "32   Phillip            2   Knight  Lance   Amber    Permanent    Male   \n",
       "\n",
       "    Release  \n",
       "31        1  \n",
       "35        1  \n",
       "5         0  \n",
       "32        1  "
      ]
     },
     "execution_count": 10,
     "metadata": {},
     "output_type": "execute_result"
    }
   ],
   "source": [
    "simulate_roll(10, 3)"
   ]
  },
  {
   "cell_type": "code",
   "execution_count": 11,
   "metadata": {},
   "outputs": [
    {
     "data": {
      "text/html": [
       "<div>\n",
       "<style scoped>\n",
       "    .dataframe tbody tr th:only-of-type {\n",
       "        vertical-align: middle;\n",
       "    }\n",
       "\n",
       "    .dataframe tbody tr th {\n",
       "        vertical-align: top;\n",
       "    }\n",
       "\n",
       "    .dataframe thead th {\n",
       "        text-align: right;\n",
       "    }\n",
       "</style>\n",
       "<table border=\"1\" class=\"dataframe\">\n",
       "  <thead>\n",
       "    <tr style=\"text-align: right;\">\n",
       "      <th></th>\n",
       "      <th>Adventure</th>\n",
       "      <th>Base Rarity</th>\n",
       "      <th>Class</th>\n",
       "      <th>Weapon</th>\n",
       "      <th>Element</th>\n",
       "      <th>Availability</th>\n",
       "      <th>Gender</th>\n",
       "      <th>Release</th>\n",
       "    </tr>\n",
       "  </thead>\n",
       "  <tbody>\n",
       "    <tr>\n",
       "      <th>7</th>\n",
       "      <td>Damian</td>\n",
       "      <td>2</td>\n",
       "      <td>Ranger</td>\n",
       "      <td>Gun</td>\n",
       "      <td>Ruby</td>\n",
       "      <td>Permanent</td>\n",
       "      <td>Male</td>\n",
       "      <td>1</td>\n",
       "    </tr>\n",
       "    <tr>\n",
       "      <th>33</th>\n",
       "      <td>Eres</td>\n",
       "      <td>2</td>\n",
       "      <td>Ranger</td>\n",
       "      <td>Dagger</td>\n",
       "      <td>Amber</td>\n",
       "      <td>Permanent</td>\n",
       "      <td>Female</td>\n",
       "      <td>1</td>\n",
       "    </tr>\n",
       "    <tr>\n",
       "      <th>54</th>\n",
       "      <td>Cotton</td>\n",
       "      <td>3</td>\n",
       "      <td>Cleric</td>\n",
       "      <td>Wand</td>\n",
       "      <td>Emerald</td>\n",
       "      <td>Permanent</td>\n",
       "      <td>Male</td>\n",
       "      <td>11</td>\n",
       "    </tr>\n",
       "  </tbody>\n",
       "</table>\n",
       "</div>"
      ],
      "text/plain": [
       "   Adventure  Base Rarity   Class  Weapon  Element Availability  Gender  \\\n",
       "7     Damian            2  Ranger     Gun     Ruby    Permanent    Male   \n",
       "33      Eres            2  Ranger  Dagger    Amber    Permanent  Female   \n",
       "54    Cotton            3  Cleric    Wand  Emerald    Permanent    Male   \n",
       "\n",
       "    Release  \n",
       "7         1  \n",
       "33        1  \n",
       "54       11  "
      ]
     },
     "execution_count": 11,
     "metadata": {},
     "output_type": "execute_result"
    }
   ],
   "source": [
    "simulate_roll(10, 15)"
   ]
  },
  {
   "cell_type": "code",
   "execution_count": 12,
   "metadata": {},
   "outputs": [],
   "source": [
    "def get_roll_average(num_samples, num_rolls, release):\n",
    "    stars2 = 0\n",
    "    stars2f = 0\n",
    "    stars3 = 0\n",
    "    stars3f = 0\n",
    "    for n in range(num_samples):\n",
    "        r = simulate_roll(num_rolls, release)\n",
    "        stars2 += len(r.loc[(r['Base Rarity'] == 2) & (r['Release'] != release)])\n",
    "        stars2f += len(r.loc[(r['Base Rarity'] == 2) & (r['Release'] == release)])\n",
    "        stars3 += len(r.loc[(r['Base Rarity'] == 3) & (r['Release'] != release)])\n",
    "        stars3f += len(r.loc[(r['Base Rarity'] == 3) & (r['Release'] == release)])\n",
    "    stars2 = round(stars2/num_samples, 2)\n",
    "    stars2f = round(stars2f/num_samples, 2)\n",
    "    stars3 = round(stars3/num_samples, 2)\n",
    "    stars3f = round(stars3f/num_samples, 2)\n",
    "    return stars2, stars2f, stars3, stars3f"
   ]
  },
  {
   "cell_type": "code",
   "execution_count": 13,
   "metadata": {},
   "outputs": [
    {
     "data": {
      "text/plain": [
       "(15.95, 4.44, 3.38, 1.58)"
      ]
     },
     "execution_count": 13,
     "metadata": {},
     "output_type": "execute_result"
    }
   ],
   "source": [
    "get_roll_average(200, 100, 2)"
   ]
  },
  {
   "cell_type": "code",
   "execution_count": 14,
   "metadata": {},
   "outputs": [
    {
     "data": {
      "text/plain": [
       "(20.04, 0.0, 3.8, 1.39)"
      ]
     },
     "execution_count": 14,
     "metadata": {},
     "output_type": "execute_result"
    }
   ],
   "source": [
    "get_roll_average(200, 100, 15)"
   ]
  },
  {
   "cell_type": "code",
   "execution_count": 15,
   "metadata": {},
   "outputs": [],
   "source": [
    "def roll_till_feature(num_samples, release):\n",
    "    rolls = []\n",
    "    featured = df.loc[(df['Base Rarity'] == 3) & (df['Release'] == release), 'Adventure'].item()\n",
    "    for n in range(num_samples):\n",
    "        r = 0\n",
    "        while True:\n",
    "            r += 1\n",
    "            adv = roll(release)\n",
    "            if adv is not None:\n",
    "                if adv['Adventure'].item() == featured:\n",
    "                    rolls.append(r)\n",
    "                    break\n",
    "    return rolls"
   ]
  },
  {
   "cell_type": "code",
   "execution_count": 16,
   "metadata": {},
   "outputs": [
    {
     "data": {
      "text/plain": [
       "[34, 39, 75, 7, 50, 61, 17, 34, 42, 172]"
      ]
     },
     "execution_count": 16,
     "metadata": {},
     "output_type": "execute_result"
    }
   ],
   "source": [
    "roll_till_feature(10, 2)"
   ]
  },
  {
   "cell_type": "code",
   "execution_count": 17,
   "metadata": {},
   "outputs": [
    {
     "data": {
      "text/plain": [
       "67.58"
      ]
     },
     "execution_count": 17,
     "metadata": {},
     "output_type": "execute_result"
    }
   ],
   "source": [
    "rolls = roll_till_feature(200, 2)\n",
    "sum(rolls) / len(rolls)"
   ]
  },
  {
   "cell_type": "code",
   "execution_count": null,
   "metadata": {},
   "outputs": [],
   "source": []
  }
 ],
 "metadata": {
  "kernelspec": {
   "display_name": "Python 3",
   "language": "python",
   "name": "python3"
  },
  "language_info": {
   "codemirror_mode": {
    "name": "ipython",
    "version": 3
   },
   "file_extension": ".py",
   "mimetype": "text/x-python",
   "name": "python",
   "nbconvert_exporter": "python",
   "pygments_lexer": "ipython3",
   "version": "3.8.5"
  }
 },
 "nbformat": 4,
 "nbformat_minor": 4
}
